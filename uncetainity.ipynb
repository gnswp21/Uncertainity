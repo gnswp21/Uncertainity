{
  "nbformat": 4,
  "nbformat_minor": 0,
  "metadata": {
    "colab": {
      "provenance": [],
      "gpuType": "L4"
    },
    "kernelspec": {
      "name": "python3",
      "display_name": "Python 3"
    },
    "language_info": {
      "name": "python"
    },
    "accelerator": "GPU"
  },
  "cells": [
    {
      "cell_type": "code",
      "execution_count": 2,
      "metadata": {
        "id": "Ze1GMNLc9Pyd"
      },
      "outputs": [],
      "source": [
        "import torch\n",
        "import torch.nn as nn\n",
        "import torchvision.datasets as dset\n",
        "import torchvision.transforms as transforms\n",
        "import matplotlib.pyplot as plt\n",
        "import numpy as np\n",
        "from torch.utils.data import DataLoader\n",
        "from torchvision.models import alexnet\n"
      ]
    },
    {
      "cell_type": "code",
      "source": [
        "batch_size = 100\n",
        "num_epochs = 10\n",
        "learning_rate = 0.001\n",
        "class_num = 10\n",
        "\n",
        "\n",
        "device = torch.device('cuda')\n",
        "torch.manual_seed(777)\n",
        "feature_extract = True"
      ],
      "metadata": {
        "id": "oFx7qY9Q9UxO"
      },
      "execution_count": 3,
      "outputs": []
    },
    {
      "cell_type": "code",
      "source": [
        "root = './MNIST_Fashion'\n",
        "transform = transforms.Compose([transforms.Resize(224),\n",
        "                                transforms.ToTensor(),\n",
        "                                transforms.Normalize(mean=(0.5,), std=(0.5,))])\n",
        "\n",
        "train_data = dset.FashionMNIST(root=root, train=True, transform=transform, download=True)\n",
        "train_loader = torch.utils.data.DataLoader(train_data, batch_size=batch_size, shuffle=True, drop_last=True)\n",
        "\n",
        "test_data = dset.FashionMNIST(root=root, train=False, transform=transform, download=True)\n",
        "test_loader = torch.utils.data.DataLoader(test_data, batch_size=batch_size, shuffle=False, drop_last=True)"
      ],
      "metadata": {
        "id": "b4U-RIhh9VnZ"
      },
      "execution_count": 4,
      "outputs": []
    },
    {
      "cell_type": "code",
      "source": [
        "criterion = torch.nn.CrossEntropyLoss().to(device)"
      ],
      "metadata": {
        "id": "srkwELLk9cOT"
      },
      "execution_count": 5,
      "outputs": []
    },
    {
      "cell_type": "code",
      "source": [
        "# PRETRAIN X\n",
        "feature_extract = False\n",
        "\n",
        "model = alexnet(pretrained=False, num_classes=1000)\n",
        "\n",
        "\n",
        "if feature_extract:\n",
        "  for param in model.parameters():\n",
        "     param.requires_grad = False\n",
        "\n",
        "model.features[0] = nn.Conv2d(1, 64, kernel_size=(11, 11), stride=(4, 4), padding=(2, 2))\n",
        "model.classifier[6] = nn.Linear(in_features=4096, out_features=20, bias=True)\n",
        "model.to(device)\n",
        "print(model)\n",
        "criterion = torch.nn.CrossEntropyLoss().to(device)\n"
      ],
      "metadata": {
        "colab": {
          "base_uri": "https://localhost:8080/"
        },
        "id": "GwBkV8OJ9jDj",
        "outputId": "1dc0a410-7ae0-4a4f-e08a-2cb8a4adde73"
      },
      "execution_count": 6,
      "outputs": [
        {
          "output_type": "stream",
          "name": "stderr",
          "text": [
            "/usr/local/lib/python3.10/dist-packages/torchvision/models/_utils.py:208: UserWarning: The parameter 'pretrained' is deprecated since 0.13 and may be removed in the future, please use 'weights' instead.\n",
            "  warnings.warn(\n",
            "/usr/local/lib/python3.10/dist-packages/torchvision/models/_utils.py:223: UserWarning: Arguments other than a weight enum or `None` for 'weights' are deprecated since 0.13 and may be removed in the future. The current behavior is equivalent to passing `weights=None`.\n",
            "  warnings.warn(msg)\n"
          ]
        },
        {
          "output_type": "stream",
          "name": "stdout",
          "text": [
            "AlexNet(\n",
            "  (features): Sequential(\n",
            "    (0): Conv2d(1, 64, kernel_size=(11, 11), stride=(4, 4), padding=(2, 2))\n",
            "    (1): ReLU(inplace=True)\n",
            "    (2): MaxPool2d(kernel_size=3, stride=2, padding=0, dilation=1, ceil_mode=False)\n",
            "    (3): Conv2d(64, 192, kernel_size=(5, 5), stride=(1, 1), padding=(2, 2))\n",
            "    (4): ReLU(inplace=True)\n",
            "    (5): MaxPool2d(kernel_size=3, stride=2, padding=0, dilation=1, ceil_mode=False)\n",
            "    (6): Conv2d(192, 384, kernel_size=(3, 3), stride=(1, 1), padding=(1, 1))\n",
            "    (7): ReLU(inplace=True)\n",
            "    (8): Conv2d(384, 256, kernel_size=(3, 3), stride=(1, 1), padding=(1, 1))\n",
            "    (9): ReLU(inplace=True)\n",
            "    (10): Conv2d(256, 256, kernel_size=(3, 3), stride=(1, 1), padding=(1, 1))\n",
            "    (11): ReLU(inplace=True)\n",
            "    (12): MaxPool2d(kernel_size=3, stride=2, padding=0, dilation=1, ceil_mode=False)\n",
            "  )\n",
            "  (avgpool): AdaptiveAvgPool2d(output_size=(6, 6))\n",
            "  (classifier): Sequential(\n",
            "    (0): Dropout(p=0.5, inplace=False)\n",
            "    (1): Linear(in_features=9216, out_features=4096, bias=True)\n",
            "    (2): ReLU(inplace=True)\n",
            "    (3): Dropout(p=0.5, inplace=False)\n",
            "    (4): Linear(in_features=4096, out_features=4096, bias=True)\n",
            "    (5): ReLU(inplace=True)\n",
            "    (6): Linear(in_features=4096, out_features=20, bias=True)\n",
            "  )\n",
            ")\n"
          ]
        }
      ]
    },
    {
      "cell_type": "code",
      "source": [
        "params_to_update = model.parameters()\n",
        "print(\"Params to learn:\")\n",
        "if feature_extract:\n",
        "    params_to_update = []\n",
        "    for name,param in model.named_parameters():\n",
        "        if param.requires_grad == True:\n",
        "            params_to_update.append(param)\n",
        "            print(\"\\t\",name)\n",
        "else:\n",
        "    for name,param in model.named_parameters():\n",
        "        if param.requires_grad == True:\n",
        "            print(\"\\t\",name)\n",
        "\n",
        "# Observe that all parameters are being optimized\n",
        "optimizer = torch.optim.Adam(params_to_update, lr=learning_rate)"
      ],
      "metadata": {
        "colab": {
          "base_uri": "https://localhost:8080/"
        },
        "id": "i9q18AtX9uVI",
        "outputId": "299cd5d7-9dbc-4c17-a28d-5c77e514a9d5"
      },
      "execution_count": 7,
      "outputs": [
        {
          "output_type": "stream",
          "name": "stdout",
          "text": [
            "Params to learn:\n",
            "\t features.0.weight\n",
            "\t features.0.bias\n",
            "\t features.3.weight\n",
            "\t features.3.bias\n",
            "\t features.6.weight\n",
            "\t features.6.bias\n",
            "\t features.8.weight\n",
            "\t features.8.bias\n",
            "\t features.10.weight\n",
            "\t features.10.bias\n",
            "\t classifier.1.weight\n",
            "\t classifier.1.bias\n",
            "\t classifier.4.weight\n",
            "\t classifier.4.bias\n",
            "\t classifier.6.weight\n",
            "\t classifier.6.bias\n"
          ]
        }
      ]
    },
    {
      "cell_type": "code",
      "source": [
        "costs = []\n",
        "total_batch = len(train_loader)\n",
        "LogSoftmax = torch.nn.LogSoftmax(dim=1)\n",
        "num_epochs = 3\n",
        "\n",
        "for epoch in range(num_epochs):\n",
        "    total_cost = 0\n",
        "    for i, (imgs, labels) in enumerate(train_loader):\n",
        "        imgs, labels = imgs.to(device), labels.to(device)\n",
        "\n",
        "        sampling_outputs = model(imgs)\n",
        "        sampling_logit, sampling_std = sampling_outputs[:, :class_num], sampling_outputs[:, class_num : ]\n",
        "\n",
        "        x = torch.zeros(10)\n",
        "        e = torch.normal(x, 1).to(device)\n",
        "        noised_outputs =  sampling_logit + sampling_std * e\n",
        "        loss = criterion(noised_outputs, labels)\n",
        "\n",
        "        optimizer.zero_grad()\n",
        "        loss.backward()sadasda\n",
        "        optimizer.step()\n",
        "\n",
        "        total_cost += loss\n",
        "    avg_cost = total_cost / total_batch\n",
        "    print(\"Epoch:\", \"%03d\" % (epoch+1), \"Cost =\", \"{:.9f}\".format(avg_cost))\n",
        "    costs.append(avg_cost)"
      ],
      "metadata": {
        "id": "oY38iWyX96zP",
        "colab": {
          "base_uri": "https://localhost:8080/"
        },
        "outputId": "f65318c8-9f0f-45a6-f1d1-86330e1bbcf4"
      },
      "execution_count": 8,
      "outputs": [
        {
          "output_type": "stream",
          "name": "stdout",
          "text": [
            "Epoch: 001 Cost = 0.731570721\n",
            "Epoch: 002 Cost = 0.387100071\n",
            "Epoch: 003 Cost = 0.352068782\n"
          ]
        }
      ]
    },
    {
      "cell_type": "markdown",
      "source": [],
      "metadata": {
        "id": "i47ubjFsRPbL"
      }
    },
    {
      "cell_type": "code",
      "source": [
        "model.train()\n",
        "T = 2\n",
        "rr = 0.1\n",
        "sm = torch.nn.Softmax(dim = 1)\n",
        "\n",
        "with torch.no_grad():\n",
        "    correct = 0\n",
        "    safe_correct = 0\n",
        "    total = 0\n",
        "    reject = 0\n",
        "    for i, (imgs, labels) in enumerate(test_loader):\n",
        "\n",
        "        imgs, labels = imgs.to(device), labels.to(device)\n",
        "\n",
        "        ## Sampling\n",
        "        sampling_out = torch.zeros([T, len(imgs), len(test_data.classes)]).to(device)\n",
        "        sampling_data_uncertainity = torch.zeros([T, len(imgs), len(test_data.classes)]).to(device)\n",
        "\n",
        "        for t in range(T):\n",
        "          outputs = model(imgs)\n",
        "          x = torch.zeros(10)\n",
        "          e = torch.normal(x, 1).to(device)\n",
        "          sampling_out[t] = outputs[:, :class_num]\n",
        "          sampling_data_uncertainity[t] = outputs[:, class_num:] * e\n",
        "\n",
        "        # ouputs => 100 x 10 # outputs_std => 100 x 10 # outputs_prob 100 x 10\n",
        "        outputs = torch.mean(sampling_out, dim = 0)\n",
        "        data_uncertainity =  torch.mean(sampling_data_uncertainity, dim = 0)\n",
        "        outputs_std = torch.std(sampling_out, dim = 0)\n",
        "        outputs_prob = sm(outputs)\n",
        "\n",
        "        # 로짓 arg_max 고르고 그에 따른 분산, prob\n",
        "        _, argmax = torch.max(outputs, 1)\n",
        "        max_std = outputs_std[range(len(labels)), argmax]\n",
        "        max_prob = outputs_prob[range(len(labels)), argmax]\n",
        "        max_data_uncertainity = data_uncertainity[range(len(labels)), argmax]\n",
        "\n",
        "        #  분산 리스케일링 = uncertainty Model Uncetainity + Data Uncertainity\n",
        "        uncertainty = torch.zeros_like(max_std)\n",
        "        for i in range(len(imgs)):\n",
        "          uncertainty[i] = max_std[i] * 1/max_prob[i] + max_data_uncertainity[i]  # max_std[i] * 1/max_prob[i] # Model Uncetainity\n",
        "\n",
        "        #  리스케일링한 분산 sorting해서 index 얻기\n",
        "        _, index = uncertainty.sort(dim = 0)\n",
        "\n",
        "        #  sorting 한 output과 label\n",
        "        sorted_outputs = outputs[index]\n",
        "        sorted_labels = labels[index]\n",
        "        sorted_prob = max_prob[index]\n",
        "\n",
        "        # 분산 높은 결과 cut\n",
        "        safe_outputs = sorted_outputs[:int(len(imgs) * (1 -rr))]\n",
        "        safe_labels = sorted_labels[:int(len(imgs) * (1-rr))]\n",
        "        _, safe_argmax = torch.max(safe_outputs, 1)\n",
        "\n",
        "\n",
        "        ## end sampling\n",
        "        total += imgs.size(0)\n",
        "        reject +=  imgs.size(0) - safe_outputs.size(0)\n",
        "\n",
        "        batch_safe_correct = (safe_labels == safe_argmax).sum().item()\n",
        "        safe_correct += batch_safe_correct\n",
        "\n",
        "        batch_correct = (labels == argmax).sum().item()\n",
        "        correct += batch_correct\n",
        "\n",
        "    print('Accuracy for total images {}, rejcets images: {} reject rate : {}  {:.2f}% -> {:.2f}%'.format(total, reject,  rr, correct / (total) * 100, safe_correct / (total - reject) * 100))"
      ],
      "metadata": {
        "id": "axnsotIO-AhR",
        "colab": {
          "base_uri": "https://localhost:8080/"
        },
        "outputId": "ba89e910-64ff-4093-a48d-b5a88666a50c"
      },
      "execution_count": 12,
      "outputs": [
        {
          "output_type": "stream",
          "name": "stdout",
          "text": [
            "Accuracy for total images 10000, rejcets images: 1000 reject rate : 0.1  87.60% -> 86.60%\n"
          ]
        }
      ]
    }
  ]
}